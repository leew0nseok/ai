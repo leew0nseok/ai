{
 "cells": [
  {
   "cell_type": "markdown",
   "metadata": {},
   "source": [
    "# 순환 신경망으로 IMDB 리뷰 분류하기"
   ]
  },
  {
   "cell_type": "code",
   "execution_count": 8,
   "metadata": {},
   "outputs": [],
   "source": [
    "from tensorflow.keras.datasets import imdb\n",
    "(train_input, train_target), (test_input, test_target) = imdb.load_data(num_words=500)"
   ]
  },
  {
   "cell_type": "code",
   "execution_count": 9,
   "metadata": {},
   "outputs": [
    {
     "name": "stdout",
     "output_type": "stream",
     "text": [
      "(25000,) (25000,)\n"
     ]
    }
   ],
   "source": [
    "print(train_input.shape, test_input.shape)"
   ]
  },
  {
   "cell_type": "code",
   "execution_count": 10,
   "metadata": {},
   "outputs": [
    {
     "name": "stdout",
     "output_type": "stream",
     "text": [
      "218\n"
     ]
    }
   ],
   "source": [
    "print(len(train_input[0]))"
   ]
  },
  {
   "cell_type": "code",
   "execution_count": 11,
   "metadata": {},
   "outputs": [
    {
     "name": "stdout",
     "output_type": "stream",
     "text": [
      "189\n"
     ]
    }
   ],
   "source": [
    "print(len(train_input[1]))"
   ]
  },
  {
   "cell_type": "code",
   "execution_count": 12,
   "metadata": {},
   "outputs": [
    {
     "name": "stdout",
     "output_type": "stream",
     "text": [
      "[1, 14, 22, 16, 43, 2, 2, 2, 2, 65, 458, 2, 66, 2, 4, 173, 36, 256, 5, 25, 100, 43, 2, 112, 50, 2, 2, 9, 35, 480, 284, 5, 150, 4, 172, 112, 167, 2, 336, 385, 39, 4, 172, 2, 2, 17, 2, 38, 13, 447, 4, 192, 50, 16, 6, 147, 2, 19, 14, 22, 4, 2, 2, 469, 4, 22, 71, 87, 12, 16, 43, 2, 38, 76, 15, 13, 2, 4, 22, 17, 2, 17, 12, 16, 2, 18, 2, 5, 62, 386, 12, 8, 316, 8, 106, 5, 4, 2, 2, 16, 480, 66, 2, 33, 4, 130, 12, 16, 38, 2, 5, 25, 124, 51, 36, 135, 48, 25, 2, 33, 6, 22, 12, 215, 28, 77, 52, 5, 14, 407, 16, 82, 2, 8, 4, 107, 117, 2, 15, 256, 4, 2, 7, 2, 5, 2, 36, 71, 43, 2, 476, 26, 400, 317, 46, 7, 4, 2, 2, 13, 104, 88, 4, 381, 15, 297, 98, 32, 2, 56, 26, 141, 6, 194, 2, 18, 4, 226, 22, 21, 134, 476, 26, 480, 5, 144, 30, 2, 18, 51, 36, 28, 224, 92, 25, 104, 4, 226, 65, 16, 38, 2, 88, 12, 16, 283, 5, 16, 2, 113, 103, 32, 15, 16, 2, 19, 178, 32]\n"
     ]
    }
   ],
   "source": [
    "print(train_input[0])"
   ]
  },
  {
   "cell_type": "code",
   "execution_count": 13,
   "metadata": {},
   "outputs": [
    {
     "name": "stdout",
     "output_type": "stream",
     "text": [
      "[1 0 0 1 0 0 1 0 1 0 1 0 0 0 0 0 1 1 0 1]\n"
     ]
    }
   ],
   "source": [
    "print(train_target[:20])"
   ]
  },
  {
   "cell_type": "code",
   "execution_count": 14,
   "metadata": {},
   "outputs": [],
   "source": [
    "from sklearn.model_selection import train_test_split\n",
    "train_input, val_input, train_target, val_target = train_test_split(train_input, train_target, test_size = 0.2, random_state = 42)"
   ]
  },
  {
   "cell_type": "code",
   "execution_count": 15,
   "metadata": {},
   "outputs": [],
   "source": [
    "import numpy as np\n",
    "lengths = np.array([len(x) for x in train_input])"
   ]
  },
  {
   "cell_type": "code",
   "execution_count": 16,
   "metadata": {},
   "outputs": [
    {
     "name": "stdout",
     "output_type": "stream",
     "text": [
      "239.00925 178.0\n"
     ]
    }
   ],
   "source": [
    "print(np.mean(lengths), np.median(lengths))"
   ]
  },
  {
   "cell_type": "code",
   "execution_count": 17,
   "metadata": {},
   "outputs": [
    {
     "data": {
      "image/png": "[encoded data removed]",
      "text/plain": [
       "<Figure size 640x480 with 1 Axes>"
      ]
     },
     "metadata": {},
     "output_type": "display_data"
    }
   ],
   "source": [
    "import matplotlib.pyplot as plt\n",
    "plt.hist(lengths)\n",
    "plt.xlabel('length')\n",
    "plt.ylabel('frequency')\n",
    "plt.show()"
   ]
  },
  {
   "cell_type": "code",
   "execution_count": 18,
   "metadata": {},
   "outputs": [],
   "source": [
    "from tensorflow.keras.preprocessing.sequence import pad_sequences\n",
    "train_seq = pad_sequences(train_input, maxlen= 100) # maxlen보다 길면 짤라내고 짧은 경우는 0으로 패딩"
   ]
  },
  {
   "cell_type": "code",
   "execution_count": 19,
   "metadata": {},
   "outputs": [
    {
     "name": "stdout",
     "output_type": "stream",
     "text": [
      "(20000, 100)\n"
     ]
    }
   ],
   "source": [
    "print(train_seq.shape)"
   ]
  },
  {
   "cell_type": "code",
   "execution_count": 20,
   "metadata": {},
   "outputs": [
    {
     "name": "stdout",
     "output_type": "stream",
     "text": [
      "[ 10   4  20   9   2 364 352   5  45   6   2   2  33 269   8   2 142   2\n",
      "   5   2  17  73  17 204   5   2  19  55   2   2  92  66 104  14  20  93\n",
      "  76   2 151  33   4  58  12 188   2 151  12 215  69 224 142  73 237   6\n",
      "   2   7   2   2 188   2 103  14  31  10  10 451   7   2   5   2  80  91\n",
      "   2  30   2  34  14  20 151  50  26 131  49   2  84  46  50  37  80  79\n",
      "   6   2  46   7  14  20  10  10 470 158]\n"
     ]
    }
   ],
   "source": [
    "print(train_seq[0])"
   ]
  },
  {
   "cell_type": "code",
   "execution_count": 21,
   "metadata": {},
   "outputs": [
    {
     "name": "stdout",
     "output_type": "stream",
     "text": [
      "[  0   0   0   0   1   2 195  19  49   2   2 190   4   2 352   2 183  10\n",
      "  10  13  82  79   4   2  36  71 269   8   2  25  19  49   7   4   2   2\n",
      "   2   2   2  10  10  48  25  40   2  11   2   2  40   2   2   5   4   2\n",
      "   2  95  14 238  56 129   2  10  10  21   2  94 364 352   2   2  11 190\n",
      "  24 484   2   7  94 205 405  10  10  87   2  34  49   2   7   2   2   2\n",
      "   2   2 290   2  46  48  64  18   4   2]\n"
     ]
    }
   ],
   "source": [
    "print(train_seq[5])"
   ]
  },
  {
   "cell_type": "code",
   "execution_count": 22,
   "metadata": {},
   "outputs": [],
   "source": [
    "val_seq = pad_sequences(val_input, maxlen = 100)"
   ]
  },
  {
   "cell_type": "markdown",
   "metadata": {},
   "source": [
    "## 순환 신경망 만들기"
   ]
  },
  {
   "cell_type": "code",
   "execution_count": 23,
   "metadata": {},
   "outputs": [],
   "source": [
    "from tensorflow import keras\n",
    "model = keras.Sequential()\n",
    "model.add(keras.layers.SimpleRNN(8, input_shape = (100, 500)))\n",
    "model.add(keras.layers.Dense(1, activation = 'sigmoid'))"
   ]
  },
  {
   "cell_type": "code",
   "execution_count": 24,
   "metadata": {},
   "outputs": [],
   "source": [
    "train_oh = keras.utils.to_categorical(train_seq)"
   ]
  },
  {
   "cell_type": "code",
   "execution_count": 25,
   "metadata": {},
   "outputs": [
    {
     "name": "stdout",
     "output_type": "stream",
     "text": [
      "(20000, 100, 500)\n"
     ]
    }
   ],
   "source": [
    "print((train_oh.shape))"
   ]
  },
  {
   "cell_type": "code",
   "execution_count": 26,
   "metadata": {},
   "outputs": [
    {
     "name": "stdout",
     "output_type": "stream",
     "text": [
      "[0. 0. 0. 0. 0. 0. 0. 0. 0. 0. 1. 0.]\n"
     ]
    }
   ],
   "source": [
    "print(train_oh[0][0][:12])"
   ]
  },
  {
   "cell_type": "code",
   "execution_count": 27,
   "metadata": {},
   "outputs": [
    {
     "name": "stdout",
     "output_type": "stream",
     "text": [
      "1.0\n"
     ]
    }
   ],
   "source": [
    "print(np.sum(train_oh[0][0]))"
   ]
  },
  {
   "cell_type": "code",
   "execution_count": 28,
   "metadata": {},
   "outputs": [],
   "source": [
    "val_oh = keras.utils.to_categorical(val_seq)"
   ]
  },
  {
   "cell_type": "code",
   "execution_count": 29,
   "metadata": {},
   "outputs": [
    {
     "name": "stdout",
     "output_type": "stream",
     "text": [
      "Model: \"sequential\"\n",
      "_________________________________________________________________\n",
      " Layer (type)                Output Shape              Param #   \n",
      "=================================================================\n",
      " simple_rnn (SimpleRNN)      (None, 8)                 4072      \n",
      "                                                                 \n",
      " dense (Dense)               (None, 1)                 9         \n",
      "                                                                 \n",
      "=================================================================\n",
      "Total params: 4081 (15.94 KB)\n",
      "Trainable params: 4081 (15.94 KB)\n",
      "Non-trainable params: 0 (0.00 Byte)\n",
      "_________________________________________________________________\n"
     ]
    }
   ],
   "source": [
    "model.summary()"
   ]
  },
  {
   "cell_type": "markdown",
   "metadata": {},
   "source": [
    "### 순환 신경망 훈련하기"
   ]
  },
  {
   "cell_type": "code",
   "execution_count": 30,
   "metadata": {},
   "outputs": [
    {
     "name": "stdout",
     "output_type": "stream",
     "text": [
      "Epoch 1/100\n",
      "313/313 [==============================] - 7s 18ms/step - loss: 0.6931 - accuracy: 0.5265 - val_loss: 0.6896 - val_accuracy: 0.5378\n",
      "Epoch 2/100\n",
      "  9/313 [..............................] - ETA: 4s - loss: 0.6872 - accuracy: 0.5451"
     ]
    },
    {
     "name": "stderr",
     "output_type": "stream",
     "text": [
      "c:\\Users\\com\\anaconda3\\Lib\\site-packages\\keras\\src\\engine\\training.py:3000: UserWarning: You are saving your model as an HDF5 file via `model.save()`. This file format is considered legacy. We recommend using instead the native Keras format, e.g. `model.save('my_model.keras')`.\n",
      "  saving_api.save_model(\n"
     ]
    },
    {
     "name": "stdout",
     "output_type": "stream",
     "text": [
      "313/313 [==============================] - 5s 16ms/step - loss: 0.6829 - accuracy: 0.5612 - val_loss: 0.6753 - val_accuracy: 0.5788\n",
      "Epoch 3/100\n",
      "313/313 [==============================] - 5s 16ms/step - loss: 0.6563 - accuracy: 0.6212 - val_loss: 0.6502 - val_accuracy: 0.6282\n",
      "Epoch 4/100\n",
      "313/313 [==============================] - 5s 17ms/step - loss: 0.6309 - accuracy: 0.6590 - val_loss: 0.6218 - val_accuracy: 0.6692\n",
      "Epoch 5/100\n",
      "313/313 [==============================] - 5s 17ms/step - loss: 0.6094 - accuracy: 0.6824 - val_loss: 0.6073 - val_accuracy: 0.6806\n",
      "Epoch 6/100\n",
      "313/313 [==============================] - 5s 17ms/step - loss: 0.5896 - accuracy: 0.7037 - val_loss: 0.5850 - val_accuracy: 0.7048\n",
      "Epoch 7/100\n",
      "313/313 [==============================] - 5s 17ms/step - loss: 0.5716 - accuracy: 0.7203 - val_loss: 0.5669 - val_accuracy: 0.7300\n",
      "Epoch 8/100\n",
      "313/313 [==============================] - 5s 17ms/step - loss: 0.5569 - accuracy: 0.7311 - val_loss: 0.5547 - val_accuracy: 0.7322\n",
      "Epoch 9/100\n",
      "313/313 [==============================] - 5s 17ms/step - loss: 0.5430 - accuracy: 0.7430 - val_loss: 0.5432 - val_accuracy: 0.7392\n",
      "Epoch 10/100\n",
      "313/313 [==============================] - 5s 17ms/step - loss: 0.5304 - accuracy: 0.7517 - val_loss: 0.5314 - val_accuracy: 0.7482\n",
      "Epoch 11/100\n",
      "313/313 [==============================] - 5s 17ms/step - loss: 0.5183 - accuracy: 0.7610 - val_loss: 0.5201 - val_accuracy: 0.7586\n",
      "Epoch 12/100\n",
      "313/313 [==============================] - 5s 17ms/step - loss: 0.5073 - accuracy: 0.7682 - val_loss: 0.5113 - val_accuracy: 0.7620\n",
      "Epoch 13/100\n",
      "313/313 [==============================] - 5s 16ms/step - loss: 0.4969 - accuracy: 0.7745 - val_loss: 0.5044 - val_accuracy: 0.7658\n",
      "Epoch 14/100\n",
      "313/313 [==============================] - 5s 16ms/step - loss: 0.4874 - accuracy: 0.7828 - val_loss: 0.4962 - val_accuracy: 0.7692\n",
      "Epoch 15/100\n",
      "313/313 [==============================] - 5s 16ms/step - loss: 0.4793 - accuracy: 0.7878 - val_loss: 0.4903 - val_accuracy: 0.7702\n",
      "Epoch 16/100\n",
      "313/313 [==============================] - 5s 16ms/step - loss: 0.4722 - accuracy: 0.7919 - val_loss: 0.4845 - val_accuracy: 0.7738\n",
      "Epoch 17/100\n",
      "313/313 [==============================] - 5s 16ms/step - loss: 0.4658 - accuracy: 0.7939 - val_loss: 0.4870 - val_accuracy: 0.7734\n",
      "Epoch 18/100\n",
      "313/313 [==============================] - 5s 16ms/step - loss: 0.4605 - accuracy: 0.7965 - val_loss: 0.4767 - val_accuracy: 0.7778\n",
      "Epoch 19/100\n",
      "313/313 [==============================] - 5s 16ms/step - loss: 0.4559 - accuracy: 0.7988 - val_loss: 0.4739 - val_accuracy: 0.7832\n",
      "Epoch 20/100\n",
      "313/313 [==============================] - 5s 16ms/step - loss: 0.4510 - accuracy: 0.8016 - val_loss: 0.4742 - val_accuracy: 0.7812\n",
      "Epoch 21/100\n",
      "313/313 [==============================] - 5s 16ms/step - loss: 0.4470 - accuracy: 0.8012 - val_loss: 0.4691 - val_accuracy: 0.7830\n",
      "Epoch 22/100\n",
      "313/313 [==============================] - 5s 17ms/step - loss: 0.4433 - accuracy: 0.8043 - val_loss: 0.4681 - val_accuracy: 0.7834\n",
      "Epoch 23/100\n",
      "313/313 [==============================] - 6s 18ms/step - loss: 0.4391 - accuracy: 0.8061 - val_loss: 0.4647 - val_accuracy: 0.7896\n",
      "Epoch 24/100\n",
      "313/313 [==============================] - 5s 17ms/step - loss: 0.4358 - accuracy: 0.8073 - val_loss: 0.4650 - val_accuracy: 0.7870\n",
      "Epoch 25/100\n",
      "313/313 [==============================] - 5s 17ms/step - loss: 0.4332 - accuracy: 0.8094 - val_loss: 0.4618 - val_accuracy: 0.7880\n",
      "Epoch 26/100\n",
      "313/313 [==============================] - 5s 16ms/step - loss: 0.4307 - accuracy: 0.8098 - val_loss: 0.4615 - val_accuracy: 0.7878\n",
      "Epoch 27/100\n",
      "313/313 [==============================] - 6s 20ms/step - loss: 0.4281 - accuracy: 0.8110 - val_loss: 0.4604 - val_accuracy: 0.7884\n",
      "Epoch 28/100\n",
      "313/313 [==============================] - 6s 18ms/step - loss: 0.4256 - accuracy: 0.8134 - val_loss: 0.4622 - val_accuracy: 0.7876\n",
      "Epoch 29/100\n",
      "313/313 [==============================] - 5s 16ms/step - loss: 0.4239 - accuracy: 0.8138 - val_loss: 0.4613 - val_accuracy: 0.7866\n",
      "Epoch 30/100\n",
      "313/313 [==============================] - 5s 16ms/step - loss: 0.4212 - accuracy: 0.8163 - val_loss: 0.4594 - val_accuracy: 0.7860\n",
      "Epoch 31/100\n",
      "313/313 [==============================] - 6s 18ms/step - loss: 0.4197 - accuracy: 0.8146 - val_loss: 0.4586 - val_accuracy: 0.7898\n",
      "Epoch 32/100\n",
      "313/313 [==============================] - 6s 18ms/step - loss: 0.4177 - accuracy: 0.8171 - val_loss: 0.4567 - val_accuracy: 0.7838\n",
      "Epoch 33/100\n",
      "313/313 [==============================] - 5s 16ms/step - loss: 0.4158 - accuracy: 0.8179 - val_loss: 0.4611 - val_accuracy: 0.7846\n",
      "Epoch 34/100\n",
      "313/313 [==============================] - 5s 16ms/step - loss: 0.4143 - accuracy: 0.8195 - val_loss: 0.4548 - val_accuracy: 0.7876\n",
      "Epoch 35/100\n",
      "313/313 [==============================] - 5s 16ms/step - loss: 0.4126 - accuracy: 0.8190 - val_loss: 0.4556 - val_accuracy: 0.7866\n",
      "Epoch 36/100\n",
      "313/313 [==============================] - 6s 18ms/step - loss: 0.4108 - accuracy: 0.8199 - val_loss: 0.4554 - val_accuracy: 0.7856\n",
      "Epoch 37/100\n",
      "313/313 [==============================] - 5s 17ms/step - loss: 0.4099 - accuracy: 0.8206 - val_loss: 0.4546 - val_accuracy: 0.7898\n",
      "Epoch 38/100\n",
      "313/313 [==============================] - 5s 17ms/step - loss: 0.4088 - accuracy: 0.8208 - val_loss: 0.4631 - val_accuracy: 0.7892\n",
      "Epoch 39/100\n",
      "313/313 [==============================] - 6s 18ms/step - loss: 0.4076 - accuracy: 0.8219 - val_loss: 0.4543 - val_accuracy: 0.7916\n",
      "Epoch 40/100\n",
      "313/313 [==============================] - 6s 19ms/step - loss: 0.4068 - accuracy: 0.8217 - val_loss: 0.4535 - val_accuracy: 0.7908\n",
      "Epoch 41/100\n",
      "313/313 [==============================] - 5s 16ms/step - loss: 0.4057 - accuracy: 0.8243 - val_loss: 0.4530 - val_accuracy: 0.7886\n",
      "Epoch 42/100\n",
      "313/313 [==============================] - 5s 17ms/step - loss: 0.4044 - accuracy: 0.8244 - val_loss: 0.4533 - val_accuracy: 0.7916\n",
      "Epoch 43/100\n",
      "313/313 [==============================] - 5s 17ms/step - loss: 0.4038 - accuracy: 0.8243 - val_loss: 0.4575 - val_accuracy: 0.7932\n",
      "Epoch 44/100\n",
      "313/313 [==============================] - 5s 17ms/step - loss: 0.4030 - accuracy: 0.8251 - val_loss: 0.4531 - val_accuracy: 0.7908\n"
     ]
    }
   ],
   "source": [
    "rmsprop = keras.optimizers.RMSprop(learning_rate=1e-4)\n",
    "model.compile(optimizer=rmsprop, loss = 'binary_crossentropy', metrics=['accuracy'])\n",
    "checkpoint_cb = keras.callbacks.ModelCheckpoint('best-simplernn-model.h5', save_best_only=True)\n",
    "early_stopping_cb = keras.callbacks.EarlyStopping(patience=3, restore_best_weights=True)\n",
    "history = model.fit(train_oh, train_target, epochs = 100, batch_size = 64, validation_data = (val_oh, val_target),\n",
    "                    callbacks = [checkpoint_cb, early_stopping_cb])"
   ]
  },
  {
   "cell_type": "code",
   "execution_count": 31,
   "metadata": {},
   "outputs": [
    {
     "data": {
      "image/png": "[encoded data removed]",
      "text/plain": [
       "<Figure size 640x480 with 1 Axes>"
      ]
     },
     "metadata": {},
     "output_type": "display_data"
    }
   ],
   "source": [
    "plt.plot(history.history['loss'])\n",
    "plt.plot(history.history['val_loss'])\n",
    "plt.xlabel('epoch')\n",
    "plt.ylabel('loss')\n",
    "plt.legend(['train', 'test'])\n",
    "plt.show()"
   ]
  },
  {
   "cell_type": "code",
   "execution_count": 32,
   "metadata": {},
   "outputs": [
    {
     "name": "stdout",
     "output_type": "stream",
     "text": [
      "8000000 4000000000\n"
     ]
    }
   ],
   "source": [
    "print(train_seq.nbytes, train_oh.nbytes)"
   ]
  },
  {
   "cell_type": "markdown",
   "metadata": {},
   "source": [
    "### one-hot 인코딩 -> 임베딩"
   ]
  },
  {
   "cell_type": "code",
   "execution_count": 37,
   "metadata": {},
   "outputs": [],
   "source": [
    "model2 = keras.Sequential()\n",
    "model2.add(keras.layers.Embedding(500, 16, input_length=100))\n",
    "model2.add(keras.layers.SimpleRNN(8))\n",
    "model2.add(keras.layers.Dense(1, activation='sigmoid'))"
   ]
  },
  {
   "cell_type": "code",
   "execution_count": 38,
   "metadata": {},
   "outputs": [
    {
     "name": "stdout",
     "output_type": "stream",
     "text": [
      "Model: \"sequential_2\"\n",
      "_________________________________________________________________\n",
      " Layer (type)                Output Shape              Param #   \n",
      "=================================================================\n",
      " embedding_1 (Embedding)     (None, 100, 16)           8000      \n",
      "                                                                 \n",
      " simple_rnn_2 (SimpleRNN)    (None, 8)                 200       \n",
      "                                                                 \n",
      " dense_2 (Dense)             (None, 1)                 9         \n",
      "                                                                 \n",
      "=================================================================\n",
      "Total params: 8209 (32.07 KB)\n",
      "Trainable params: 8209 (32.07 KB)\n",
      "Non-trainable params: 0 (0.00 Byte)\n",
      "_________________________________________________________________\n"
     ]
    }
   ],
   "source": [
    "model2.summary()"
   ]
  },
  {
   "cell_type": "code",
   "execution_count": 39,
   "metadata": {},
   "outputs": [
    {
     "name": "stdout",
     "output_type": "stream",
     "text": [
      "Epoch 1/100\n",
      "313/313 [==============================] - 6s 16ms/step - loss: 0.6960 - accuracy: 0.5053 - val_loss: 0.6922 - val_accuracy: 0.5170\n",
      "Epoch 2/100\n",
      "313/313 [==============================] - 4s 14ms/step - loss: 0.6893 - accuracy: 0.5332 - val_loss: 0.6877 - val_accuracy: 0.5372\n",
      "Epoch 3/100\n",
      "313/313 [==============================] - 4s 14ms/step - loss: 0.6823 - accuracy: 0.5637 - val_loss: 0.6808 - val_accuracy: 0.5678\n",
      "Epoch 4/100\n",
      "313/313 [==============================] - 4s 14ms/step - loss: 0.6737 - accuracy: 0.5943 - val_loss: 0.6722 - val_accuracy: 0.5932\n",
      "Epoch 5/100\n",
      "313/313 [==============================] - 4s 14ms/step - loss: 0.6510 - accuracy: 0.6418 - val_loss: 0.6103 - val_accuracy: 0.6924\n",
      "Epoch 6/100\n",
      "313/313 [==============================] - 5s 16ms/step - loss: 0.5796 - accuracy: 0.7182 - val_loss: 0.5729 - val_accuracy: 0.7204\n",
      "Epoch 7/100\n",
      "313/313 [==============================] - 5s 16ms/step - loss: 0.5510 - accuracy: 0.7433 - val_loss: 0.5553 - val_accuracy: 0.7282\n",
      "Epoch 8/100\n",
      "313/313 [==============================] - 4s 14ms/step - loss: 0.5317 - accuracy: 0.7545 - val_loss: 0.5334 - val_accuracy: 0.7478\n",
      "Epoch 9/100\n",
      "313/313 [==============================] - 4s 14ms/step - loss: 0.5170 - accuracy: 0.7635 - val_loss: 0.5311 - val_accuracy: 0.7436\n",
      "Epoch 10/100\n",
      "313/313 [==============================] - 4s 14ms/step - loss: 0.5050 - accuracy: 0.7726 - val_loss: 0.5155 - val_accuracy: 0.7576\n",
      "Epoch 11/100\n",
      "313/313 [==============================] - 4s 14ms/step - loss: 0.4958 - accuracy: 0.7785 - val_loss: 0.5095 - val_accuracy: 0.7604\n",
      "Epoch 12/100\n",
      "313/313 [==============================] - 4s 14ms/step - loss: 0.4901 - accuracy: 0.7806 - val_loss: 0.5020 - val_accuracy: 0.7636\n",
      "Epoch 13/100\n",
      "313/313 [==============================] - 4s 14ms/step - loss: 0.4810 - accuracy: 0.7865 - val_loss: 0.5008 - val_accuracy: 0.7650\n",
      "Epoch 14/100\n",
      "313/313 [==============================] - 4s 14ms/step - loss: 0.4766 - accuracy: 0.7881 - val_loss: 0.5014 - val_accuracy: 0.7626\n",
      "Epoch 15/100\n",
      "313/313 [==============================] - 4s 14ms/step - loss: 0.4722 - accuracy: 0.7909 - val_loss: 0.4900 - val_accuracy: 0.7732\n",
      "Epoch 16/100\n",
      "313/313 [==============================] - 5s 14ms/step - loss: 0.4662 - accuracy: 0.7945 - val_loss: 0.4987 - val_accuracy: 0.7644\n",
      "Epoch 17/100\n",
      "313/313 [==============================] - 4s 14ms/step - loss: 0.4608 - accuracy: 0.7970 - val_loss: 0.4858 - val_accuracy: 0.7738\n",
      "Epoch 18/100\n",
      "313/313 [==============================] - 4s 14ms/step - loss: 0.4558 - accuracy: 0.8001 - val_loss: 0.4823 - val_accuracy: 0.7736\n",
      "Epoch 19/100\n",
      "313/313 [==============================] - 4s 14ms/step - loss: 0.4518 - accuracy: 0.8032 - val_loss: 0.4768 - val_accuracy: 0.7802\n",
      "Epoch 20/100\n",
      "313/313 [==============================] - 4s 13ms/step - loss: 0.4479 - accuracy: 0.8040 - val_loss: 0.4793 - val_accuracy: 0.7764\n",
      "Epoch 21/100\n",
      "313/313 [==============================] - 4s 14ms/step - loss: 0.4443 - accuracy: 0.8055 - val_loss: 0.4735 - val_accuracy: 0.7802\n",
      "Epoch 22/100\n",
      "313/313 [==============================] - 4s 14ms/step - loss: 0.4419 - accuracy: 0.8084 - val_loss: 0.4760 - val_accuracy: 0.7794\n",
      "Epoch 23/100\n",
      "313/313 [==============================] - 4s 14ms/step - loss: 0.4387 - accuracy: 0.8102 - val_loss: 0.4752 - val_accuracy: 0.7800\n",
      "Epoch 24/100\n",
      "313/313 [==============================] - 4s 13ms/step - loss: 0.4363 - accuracy: 0.8108 - val_loss: 0.4691 - val_accuracy: 0.7834\n",
      "Epoch 25/100\n",
      "313/313 [==============================] - 4s 14ms/step - loss: 0.4338 - accuracy: 0.8120 - val_loss: 0.4689 - val_accuracy: 0.7816\n",
      "Epoch 26/100\n",
      "313/313 [==============================] - 4s 14ms/step - loss: 0.4308 - accuracy: 0.8127 - val_loss: 0.4719 - val_accuracy: 0.7800\n",
      "Epoch 27/100\n",
      "313/313 [==============================] - 4s 14ms/step - loss: 0.4298 - accuracy: 0.8120 - val_loss: 0.4678 - val_accuracy: 0.7826\n",
      "Epoch 28/100\n",
      "313/313 [==============================] - 4s 13ms/step - loss: 0.4270 - accuracy: 0.8150 - val_loss: 0.4691 - val_accuracy: 0.7830\n",
      "Epoch 29/100\n",
      "313/313 [==============================] - 4s 14ms/step - loss: 0.4243 - accuracy: 0.8160 - val_loss: 0.4655 - val_accuracy: 0.7834\n",
      "Epoch 30/100\n",
      "313/313 [==============================] - 4s 13ms/step - loss: 0.4221 - accuracy: 0.8181 - val_loss: 0.4656 - val_accuracy: 0.7838\n",
      "Epoch 31/100\n",
      "313/313 [==============================] - 4s 14ms/step - loss: 0.4209 - accuracy: 0.8177 - val_loss: 0.4647 - val_accuracy: 0.7856\n",
      "Epoch 32/100\n",
      "313/313 [==============================] - 4s 14ms/step - loss: 0.4175 - accuracy: 0.8197 - val_loss: 0.4683 - val_accuracy: 0.7852\n",
      "Epoch 33/100\n",
      "313/313 [==============================] - 4s 14ms/step - loss: 0.4166 - accuracy: 0.8196 - val_loss: 0.4633 - val_accuracy: 0.7852\n",
      "Epoch 34/100\n",
      "313/313 [==============================] - 4s 14ms/step - loss: 0.4138 - accuracy: 0.8209 - val_loss: 0.4652 - val_accuracy: 0.7812\n",
      "Epoch 35/100\n",
      "313/313 [==============================] - 4s 14ms/step - loss: 0.4122 - accuracy: 0.8209 - val_loss: 0.4624 - val_accuracy: 0.7840\n",
      "Epoch 36/100\n",
      "313/313 [==============================] - 4s 14ms/step - loss: 0.4098 - accuracy: 0.8227 - val_loss: 0.4630 - val_accuracy: 0.7826\n",
      "Epoch 37/100\n",
      "313/313 [==============================] - 4s 14ms/step - loss: 0.4080 - accuracy: 0.8245 - val_loss: 0.4650 - val_accuracy: 0.7794\n",
      "Epoch 38/100\n",
      "313/313 [==============================] - 4s 14ms/step - loss: 0.4072 - accuracy: 0.8238 - val_loss: 0.4630 - val_accuracy: 0.7838\n"
     ]
    }
   ],
   "source": [
    "rmsprop = keras.optimizers.RMSprop(learning_rate=1e-4)\n",
    "model2.compile(optimizer=rmsprop, loss = 'binary_crossentropy', metrics=['accuracy'])\n",
    "checkpoint_cb = keras.callbacks.ModelCheckpoint('best-embedding-model.h5', save_best_only=True)\n",
    "early_stopping_cb = keras.callbacks.EarlyStopping(patience=3, restore_best_weights=True)\n",
    "history = model2.fit(train_seq, train_target, epochs = 100, batch_size = 64, validation_data = (val_seq, val_target),\n",
    "                    callbacks = [checkpoint_cb, early_stopping_cb])"
   ]
  },
  {
   "cell_type": "code",
   "execution_count": 40,
   "metadata": {},
   "outputs": [
    {
     "data": {
      "image/png": "[encoded data removed]",
      "text/plain": [
       "<Figure size 640x480 with 1 Axes>"
      ]
     },
     "metadata": {},
     "output_type": "display_data"
    }
   ],
   "source": [
    "plt.plot(history.history['loss'])\n",
    "plt.plot(history.history['val_loss'])\n",
    "plt.xlabel('epoch')\n",
    "plt.ylabel('loss')\n",
    "plt.legend(['train', 'test'])\n",
    "plt.show()"
   ]
  },
  {
   "cell_type": "markdown",
   "metadata": {},
   "source": [
    "## LSTM과 GRU셀"
   ]
  },
  {
   "cell_type": "markdown",
   "metadata": {},
   "source": [
    "### LSTM 신경망 훈련하기"
   ]
  },
  {
   "cell_type": "code",
   "execution_count": 1,
   "metadata": {},
   "outputs": [],
   "source": [
    "from tensorflow.keras.datasets import imdb\n",
    "from sklearn.model_selection import train_test_split\n",
    "(train_input, train_target), (test_input, test_target) = imdb.load_data(num_words=500)\n",
    "train_input, val_input, train_target, val_target = train_test_split(train_input, train_target, test_size = 0.2, random_state = 42)"
   ]
  },
  {
   "cell_type": "code",
   "execution_count": 2,
   "metadata": {},
   "outputs": [],
   "source": [
    "from tensorflow.keras.preprocessing.sequence import pad_sequences\n",
    "train_seq = pad_sequences(train_input, maxlen = 100)\n",
    "val_seq = pad_sequences(val_input, maxlen = 100)"
   ]
  },
  {
   "cell_type": "code",
   "execution_count": 3,
   "metadata": {},
   "outputs": [],
   "source": [
    "from tensorflow import keras\n",
    "model = keras.Sequential()\n",
    "model.add(keras.layers.Embedding(500, 16, input_length=100))\n",
    "model.add(keras.layers.LSTM(8))\n",
    "model.add(keras.layers.Dense(1, activation='sigmoid'))"
   ]
  },
  {
   "cell_type": "code",
   "execution_count": 4,
   "metadata": {},
   "outputs": [
    {
     "name": "stdout",
     "output_type": "stream",
     "text": [
      "Model: \"sequential\"\n",
      "_________________________________________________________________\n",
      " Layer (type)                Output Shape              Param #   \n",
      "=================================================================\n",
      " embedding (Embedding)       (None, 100, 16)           8000      \n",
      "                                                                 \n",
      " lstm (LSTM)                 (None, 8)                 800       \n",
      "                                                                 \n",
      " dense (Dense)               (None, 1)                 9         \n",
      "                                                                 \n",
      "=================================================================\n",
      "Total params: 8809 (34.41 KB)\n",
      "Trainable params: 8809 (34.41 KB)\n",
      "Non-trainable params: 0 (0.00 Byte)\n",
      "_________________________________________________________________\n"
     ]
    }
   ],
   "source": [
    "model.summary()"
   ]
  },
  {
   "cell_type": "code",
   "execution_count": 7,
   "metadata": {},
   "outputs": [
    {
     "name": "stdout",
     "output_type": "stream",
     "text": [
      "Epoch 1/100\n",
      "313/313 [==============================] - 11s 28ms/step - loss: 0.6924 - accuracy: 0.5324 - val_loss: 0.6919 - val_accuracy: 0.5552\n",
      "Epoch 2/100\n",
      "  5/313 [..............................] - ETA: 8s - loss: 0.6926 - accuracy: 0.4969"
     ]
    },
    {
     "name": "stderr",
     "output_type": "stream",
     "text": [
      "c:\\Users\\com\\anaconda3\\Lib\\site-packages\\keras\\src\\engine\\training.py:3000: UserWarning: You are saving your model as an HDF5 file via `model.save()`. This file format is considered legacy. We recommend using instead the native Keras format, e.g. `model.save('my_model.keras')`.\n",
      "  saving_api.save_model(\n"
     ]
    },
    {
     "name": "stdout",
     "output_type": "stream",
     "text": [
      "313/313 [==============================] - 9s 28ms/step - loss: 0.6912 - accuracy: 0.5691 - val_loss: 0.6905 - val_accuracy: 0.5782\n",
      "Epoch 3/100\n",
      "313/313 [==============================] - 9s 27ms/step - loss: 0.6893 - accuracy: 0.5907 - val_loss: 0.6880 - val_accuracy: 0.5948\n",
      "Epoch 4/100\n",
      "313/313 [==============================] - 8s 26ms/step - loss: 0.6857 - accuracy: 0.6090 - val_loss: 0.6835 - val_accuracy: 0.6174\n",
      "Epoch 5/100\n",
      "313/313 [==============================] - 8s 26ms/step - loss: 0.6788 - accuracy: 0.6288 - val_loss: 0.6744 - val_accuracy: 0.6360\n",
      "Epoch 6/100\n",
      "313/313 [==============================] - 8s 25ms/step - loss: 0.6635 - accuracy: 0.6597 - val_loss: 0.6517 - val_accuracy: 0.6690\n",
      "Epoch 7/100\n",
      "313/313 [==============================] - 8s 25ms/step - loss: 0.6205 - accuracy: 0.7031 - val_loss: 0.5940 - val_accuracy: 0.7172\n",
      "Epoch 8/100\n",
      "313/313 [==============================] - 8s 25ms/step - loss: 0.5737 - accuracy: 0.7311 - val_loss: 0.5668 - val_accuracy: 0.7302\n",
      "Epoch 9/100\n",
      "313/313 [==============================] - 8s 25ms/step - loss: 0.5506 - accuracy: 0.7469 - val_loss: 0.5469 - val_accuracy: 0.7456\n",
      "Epoch 10/100\n",
      "313/313 [==============================] - 9s 28ms/step - loss: 0.5313 - accuracy: 0.7569 - val_loss: 0.5306 - val_accuracy: 0.7524\n",
      "Epoch 11/100\n",
      "313/313 [==============================] - 9s 28ms/step - loss: 0.5138 - accuracy: 0.7659 - val_loss: 0.5147 - val_accuracy: 0.7606\n",
      "Epoch 12/100\n",
      "313/313 [==============================] - 8s 25ms/step - loss: 0.4987 - accuracy: 0.7753 - val_loss: 0.5015 - val_accuracy: 0.7706\n",
      "Epoch 13/100\n",
      "313/313 [==============================] - 8s 25ms/step - loss: 0.4856 - accuracy: 0.7823 - val_loss: 0.4920 - val_accuracy: 0.7752\n",
      "Epoch 14/100\n",
      "313/313 [==============================] - 8s 25ms/step - loss: 0.4748 - accuracy: 0.7889 - val_loss: 0.4822 - val_accuracy: 0.7750\n",
      "Epoch 15/100\n",
      "313/313 [==============================] - 8s 25ms/step - loss: 0.4658 - accuracy: 0.7936 - val_loss: 0.4736 - val_accuracy: 0.7830\n",
      "Epoch 16/100\n",
      "313/313 [==============================] - 8s 25ms/step - loss: 0.4573 - accuracy: 0.7962 - val_loss: 0.4685 - val_accuracy: 0.7824\n",
      "Epoch 17/100\n",
      "313/313 [==============================] - 8s 25ms/step - loss: 0.4505 - accuracy: 0.8004 - val_loss: 0.4626 - val_accuracy: 0.7862\n",
      "Epoch 18/100\n",
      "313/313 [==============================] - 8s 24ms/step - loss: 0.4443 - accuracy: 0.8036 - val_loss: 0.4636 - val_accuracy: 0.7878\n",
      "Epoch 19/100\n",
      "313/313 [==============================] - 8s 25ms/step - loss: 0.4388 - accuracy: 0.8068 - val_loss: 0.4534 - val_accuracy: 0.7940\n",
      "Epoch 20/100\n",
      "313/313 [==============================] - 9s 27ms/step - loss: 0.4345 - accuracy: 0.8104 - val_loss: 0.4518 - val_accuracy: 0.7944\n",
      "Epoch 21/100\n",
      "313/313 [==============================] - 8s 26ms/step - loss: 0.4309 - accuracy: 0.8092 - val_loss: 0.4483 - val_accuracy: 0.7950\n",
      "Epoch 22/100\n",
      "313/313 [==============================] - 8s 26ms/step - loss: 0.4274 - accuracy: 0.8102 - val_loss: 0.4457 - val_accuracy: 0.7940\n",
      "Epoch 23/100\n",
      "313/313 [==============================] - 8s 26ms/step - loss: 0.4243 - accuracy: 0.8123 - val_loss: 0.4457 - val_accuracy: 0.7966\n",
      "Epoch 24/100\n",
      "313/313 [==============================] - 8s 26ms/step - loss: 0.4226 - accuracy: 0.8129 - val_loss: 0.4424 - val_accuracy: 0.7990\n",
      "Epoch 25/100\n",
      "313/313 [==============================] - 8s 26ms/step - loss: 0.4202 - accuracy: 0.8137 - val_loss: 0.4421 - val_accuracy: 0.7956\n",
      "Epoch 26/100\n",
      "313/313 [==============================] - 8s 26ms/step - loss: 0.4189 - accuracy: 0.8149 - val_loss: 0.4397 - val_accuracy: 0.7990\n",
      "Epoch 27/100\n",
      "313/313 [==============================] - 8s 25ms/step - loss: 0.4174 - accuracy: 0.8151 - val_loss: 0.4392 - val_accuracy: 0.7984\n",
      "Epoch 28/100\n",
      "313/313 [==============================] - 8s 25ms/step - loss: 0.4157 - accuracy: 0.8163 - val_loss: 0.4400 - val_accuracy: 0.7982\n",
      "Epoch 29/100\n",
      "313/313 [==============================] - 8s 25ms/step - loss: 0.4148 - accuracy: 0.8147 - val_loss: 0.4394 - val_accuracy: 0.7978\n",
      "Epoch 30/100\n",
      "313/313 [==============================] - 8s 25ms/step - loss: 0.4133 - accuracy: 0.8142 - val_loss: 0.4379 - val_accuracy: 0.8014\n",
      "Epoch 31/100\n",
      "313/313 [==============================] - 8s 25ms/step - loss: 0.4129 - accuracy: 0.8153 - val_loss: 0.4362 - val_accuracy: 0.8018\n",
      "Epoch 32/100\n",
      "313/313 [==============================] - 8s 24ms/step - loss: 0.4119 - accuracy: 0.8163 - val_loss: 0.4374 - val_accuracy: 0.8010\n",
      "Epoch 33/100\n",
      "313/313 [==============================] - 8s 26ms/step - loss: 0.4111 - accuracy: 0.8160 - val_loss: 0.4368 - val_accuracy: 0.7976\n",
      "Epoch 34/100\n",
      "313/313 [==============================] - 9s 28ms/step - loss: 0.4104 - accuracy: 0.8165 - val_loss: 0.4375 - val_accuracy: 0.7982\n"
     ]
    }
   ],
   "source": [
    "rmsprop = keras.optimizers.RMSprop(learning_rate=1e-4)\n",
    "model.compile(optimizer = rmsprop, loss = 'binary_crossentropy', metrics = ['accuracy'])\n",
    "checkpoint_db = keras.callbacks.ModelCheckpoint('best-lstm-model.h5', save_best_only=True)\n",
    "early_stopping_cb = keras.callbacks.EarlyStopping(patience = 3, restore_best_weights=True)\n",
    "history = model.fit(train_seq, train_target, epochs=100, batch_size = 64, validation_data = (val_seq, val_target), callbacks = [checkpoint_db, early_stopping_cb])"
   ]
  },
  {
   "cell_type": "code",
   "execution_count": 8,
   "metadata": {},
   "outputs": [
    {
     "data": {
      "image/png": "[encoded data removed]",
      "text/plain": [
       "<Figure size 640x480 with 1 Axes>"
      ]
     },
     "metadata": {},
     "output_type": "display_data"
    }
   ],
   "source": [
    "import matplotlib.pyplot as plt\n",
    "\n",
    "plt.plot(history.history['loss'])\n",
    "plt.plot(history.history['val_loss'])\n",
    "plt.xlabel('Epochs')\n",
    "plt.ylabel('loss')\n",
    "plt.legend(['train', 'val'])\n",
    "plt.show()"
   ]
  },
  {
   "cell_type": "markdown",
   "metadata": {},
   "source": [
    "\n",
    "### 순환층에 드랍아웃 적용"
   ]
  },
  {
   "cell_type": "code",
   "execution_count": 11,
   "metadata": {},
   "outputs": [],
   "source": [
    "model2 = keras.Sequential()\n",
    "model2.add(keras.layers.Embedding(500, 16, input_length=100))\n",
    "model2.add(keras.layers.LSTM(8, dropout=0.3))\n",
    "model2.add(keras.layers.Dense(1, activation='sigmoid'))"
   ]
  },
  {
   "cell_type": "code",
   "execution_count": 12,
   "metadata": {},
   "outputs": [
    {
     "name": "stdout",
     "output_type": "stream",
     "text": [
      "Epoch 1/100\n",
      "313/313 [==============================] - 12s 30ms/step - loss: 0.6929 - accuracy: 0.5185 - val_loss: 0.6926 - val_accuracy: 0.5410\n",
      "Epoch 2/100\n",
      "  5/313 [..............................] - ETA: 8s - loss: 0.6921 - accuracy: 0.5437"
     ]
    },
    {
     "name": "stderr",
     "output_type": "stream",
     "text": [
      "c:\\Users\\com\\anaconda3\\Lib\\site-packages\\keras\\src\\engine\\training.py:3000: UserWarning: You are saving your model as an HDF5 file via `model.save()`. This file format is considered legacy. We recommend using instead the native Keras format, e.g. `model.save('my_model.keras')`.\n",
      "  saving_api.save_model(\n"
     ]
    },
    {
     "name": "stdout",
     "output_type": "stream",
     "text": [
      "313/313 [==============================] - 8s 27ms/step - loss: 0.6921 - accuracy: 0.5569 - val_loss: 0.6918 - val_accuracy: 0.5586\n",
      "Epoch 3/100\n",
      "313/313 [==============================] - 8s 26ms/step - loss: 0.6909 - accuracy: 0.5723 - val_loss: 0.6904 - val_accuracy: 0.5796\n",
      "Epoch 4/100\n",
      "313/313 [==============================] - 8s 26ms/step - loss: 0.6890 - accuracy: 0.5943 - val_loss: 0.6879 - val_accuracy: 0.6012\n",
      "Epoch 5/100\n",
      "313/313 [==============================] - 8s 26ms/step - loss: 0.6853 - accuracy: 0.6176 - val_loss: 0.6830 - val_accuracy: 0.6302\n",
      "Epoch 6/100\n",
      "313/313 [==============================] - 8s 26ms/step - loss: 0.6771 - accuracy: 0.6436 - val_loss: 0.6699 - val_accuracy: 0.6642\n",
      "Epoch 7/100\n",
      "313/313 [==============================] - 8s 26ms/step - loss: 0.6420 - accuracy: 0.6854 - val_loss: 0.5987 - val_accuracy: 0.7146\n",
      "Epoch 8/100\n",
      "313/313 [==============================] - 8s 26ms/step - loss: 0.5769 - accuracy: 0.7234 - val_loss: 0.5625 - val_accuracy: 0.7342\n",
      "Epoch 9/100\n",
      "313/313 [==============================] - 8s 26ms/step - loss: 0.5483 - accuracy: 0.7418 - val_loss: 0.5363 - val_accuracy: 0.7480\n",
      "Epoch 10/100\n",
      "313/313 [==============================] - 8s 26ms/step - loss: 0.5225 - accuracy: 0.7594 - val_loss: 0.5176 - val_accuracy: 0.7590\n",
      "Epoch 11/100\n",
      "313/313 [==============================] - 8s 27ms/step - loss: 0.5040 - accuracy: 0.7689 - val_loss: 0.4975 - val_accuracy: 0.7766\n",
      "Epoch 12/100\n",
      "313/313 [==============================] - 8s 26ms/step - loss: 0.4897 - accuracy: 0.7779 - val_loss: 0.4849 - val_accuracy: 0.7792\n",
      "Epoch 13/100\n",
      "313/313 [==============================] - 8s 26ms/step - loss: 0.4797 - accuracy: 0.7807 - val_loss: 0.4766 - val_accuracy: 0.7840\n",
      "Epoch 14/100\n",
      "313/313 [==============================] - 8s 26ms/step - loss: 0.4723 - accuracy: 0.7854 - val_loss: 0.4710 - val_accuracy: 0.7844\n",
      "Epoch 15/100\n",
      "313/313 [==============================] - 8s 26ms/step - loss: 0.4638 - accuracy: 0.7911 - val_loss: 0.4645 - val_accuracy: 0.7892\n",
      "Epoch 16/100\n",
      "313/313 [==============================] - 8s 25ms/step - loss: 0.4600 - accuracy: 0.7922 - val_loss: 0.4610 - val_accuracy: 0.7884\n",
      "Epoch 17/100\n",
      "313/313 [==============================] - 8s 26ms/step - loss: 0.4542 - accuracy: 0.7957 - val_loss: 0.4566 - val_accuracy: 0.7920\n",
      "Epoch 18/100\n",
      "313/313 [==============================] - 8s 26ms/step - loss: 0.4509 - accuracy: 0.7962 - val_loss: 0.4534 - val_accuracy: 0.7930\n",
      "Epoch 19/100\n",
      "313/313 [==============================] - 8s 26ms/step - loss: 0.4469 - accuracy: 0.7987 - val_loss: 0.4507 - val_accuracy: 0.7922\n",
      "Epoch 20/100\n",
      "313/313 [==============================] - 8s 26ms/step - loss: 0.4425 - accuracy: 0.8015 - val_loss: 0.4502 - val_accuracy: 0.7944\n",
      "Epoch 21/100\n",
      "313/313 [==============================] - 9s 27ms/step - loss: 0.4422 - accuracy: 0.8006 - val_loss: 0.4462 - val_accuracy: 0.7956\n",
      "Epoch 22/100\n",
      "313/313 [==============================] - 8s 26ms/step - loss: 0.4391 - accuracy: 0.8018 - val_loss: 0.4468 - val_accuracy: 0.7974\n",
      "Epoch 23/100\n",
      "313/313 [==============================] - 9s 28ms/step - loss: 0.4360 - accuracy: 0.8040 - val_loss: 0.4431 - val_accuracy: 0.7970\n",
      "Epoch 24/100\n",
      "313/313 [==============================] - 8s 26ms/step - loss: 0.4336 - accuracy: 0.8043 - val_loss: 0.4419 - val_accuracy: 0.7974\n",
      "Epoch 25/100\n",
      "313/313 [==============================] - 8s 26ms/step - loss: 0.4319 - accuracy: 0.8048 - val_loss: 0.4406 - val_accuracy: 0.7962\n",
      "Epoch 26/100\n",
      "313/313 [==============================] - 8s 26ms/step - loss: 0.4317 - accuracy: 0.8051 - val_loss: 0.4401 - val_accuracy: 0.7976\n",
      "Epoch 27/100\n",
      "313/313 [==============================] - 8s 26ms/step - loss: 0.4308 - accuracy: 0.8037 - val_loss: 0.4420 - val_accuracy: 0.8016\n",
      "Epoch 28/100\n",
      "313/313 [==============================] - 8s 25ms/step - loss: 0.4286 - accuracy: 0.8065 - val_loss: 0.4375 - val_accuracy: 0.7964\n",
      "Epoch 29/100\n",
      "313/313 [==============================] - 9s 27ms/step - loss: 0.4257 - accuracy: 0.8075 - val_loss: 0.4378 - val_accuracy: 0.8010\n",
      "Epoch 30/100\n",
      "313/313 [==============================] - 9s 28ms/step - loss: 0.4262 - accuracy: 0.8067 - val_loss: 0.4365 - val_accuracy: 0.8030\n",
      "Epoch 31/100\n",
      "313/313 [==============================] - 9s 28ms/step - loss: 0.4248 - accuracy: 0.8072 - val_loss: 0.4367 - val_accuracy: 0.8016\n",
      "Epoch 32/100\n",
      "313/313 [==============================] - 8s 27ms/step - loss: 0.4234 - accuracy: 0.8091 - val_loss: 0.4354 - val_accuracy: 0.8038\n",
      "Epoch 33/100\n",
      "313/313 [==============================] - 8s 26ms/step - loss: 0.4218 - accuracy: 0.8099 - val_loss: 0.4346 - val_accuracy: 0.8016\n",
      "Epoch 34/100\n",
      "313/313 [==============================] - 9s 29ms/step - loss: 0.4217 - accuracy: 0.8100 - val_loss: 0.4340 - val_accuracy: 0.8004\n",
      "Epoch 35/100\n",
      "313/313 [==============================] - 8s 25ms/step - loss: 0.4219 - accuracy: 0.8105 - val_loss: 0.4335 - val_accuracy: 0.8022\n",
      "Epoch 36/100\n",
      "313/313 [==============================] - 8s 26ms/step - loss: 0.4212 - accuracy: 0.8095 - val_loss: 0.4367 - val_accuracy: 0.8020\n",
      "Epoch 37/100\n",
      "313/313 [==============================] - 9s 27ms/step - loss: 0.4191 - accuracy: 0.8103 - val_loss: 0.4357 - val_accuracy: 0.8026\n",
      "Epoch 38/100\n",
      "313/313 [==============================] - 8s 26ms/step - loss: 0.4197 - accuracy: 0.8097 - val_loss: 0.4343 - val_accuracy: 0.8050\n"
     ]
    }
   ],
   "source": [
    "rmsprop = keras.optimizers.RMSprop(learning_rate=1e-4)\n",
    "model2.compile(optimizer = rmsprop, loss = 'binary_crossentropy', metrics = ['accuracy'])\n",
    "checkpoint_db = keras.callbacks.ModelCheckpoint('best-dropout-model.h5', save_best_only=True)\n",
    "early_stopping_cb = keras.callbacks.EarlyStopping(patience = 3, restore_best_weights=True)\n",
    "history = model2.fit(train_seq, train_target, epochs=100, batch_size = 64, validation_data = (val_seq, val_target), callbacks = [checkpoint_db, early_stopping_cb])"
   ]
  },
  {
   "cell_type": "code",
   "execution_count": 13,
   "metadata": {},
   "outputs": [
    {
     "data": {
      "image/png": "[encoded data removed]",
      "text/plain": [
       "<Figure size 640x480 with 1 Axes>"
      ]
     },
     "metadata": {},
     "output_type": "display_data"
    }
   ],
   "source": [
    "import matplotlib.pyplot as plt\n",
    "\n",
    "plt.plot(history.history['loss'])\n",
    "plt.plot(history.history['val_loss'])\n",
    "plt.xlabel('Epochs')\n",
    "plt.ylabel('loss')\n",
    "plt.legend(['train', 'val'])\n",
    "plt.show()"
   ]
  },
  {
   "cell_type": "code",
   "execution_count": 14,
   "metadata": {},
   "outputs": [],
   "source": [
    "model3 = keras.Sequential()\n",
    "model3.add(keras.layers.Embedding(500, 16, input_length=100))\n",
    "model3.add(keras.layers.LSTM(8, dropout=0.3, return_sequences=True))\n",
    "model3.add(keras.layers.LSTM(8, dropout=0.3))\n",
    "model3.add(keras.layers.Dense(1, activation='sigmoid'))"
   ]
  },
  {
   "cell_type": "code",
   "execution_count": 15,
   "metadata": {},
   "outputs": [
    {
     "name": "stdout",
     "output_type": "stream",
     "text": [
      "Model: \"sequential_4\"\n",
      "_________________________________________________________________\n",
      " Layer (type)                Output Shape              Param #   \n",
      "=================================================================\n",
      " embedding_4 (Embedding)     (None, 100, 16)           8000      \n",
      "                                                                 \n",
      " lstm_4 (LSTM)               (None, 100, 8)            800       \n",
      "                                                                 \n",
      " lstm_5 (LSTM)               (None, 8)                 544       \n",
      "                                                                 \n",
      " dense_4 (Dense)             (None, 1)                 9         \n",
      "                                                                 \n",
      "=================================================================\n",
      "Total params: 9353 (36.54 KB)\n",
      "Trainable params: 9353 (36.54 KB)\n",
      "Non-trainable params: 0 (0.00 Byte)\n",
      "_________________________________________________________________\n"
     ]
    }
   ],
   "source": [
    "model3.summary()"
   ]
  },
  {
   "cell_type": "code",
   "execution_count": 16,
   "metadata": {},
   "outputs": [
    {
     "name": "stdout",
     "output_type": "stream",
     "text": [
      "Epoch 1/100\n",
      "313/313 [==============================] - 21s 54ms/step - loss: 0.6931 - accuracy: 0.5078 - val_loss: 0.6930 - val_accuracy: 0.5006\n",
      "Epoch 2/100\n",
      "  3/313 [..............................] - ETA: 14s - loss: 0.6928 - accuracy: 0.5365"
     ]
    },
    {
     "name": "stderr",
     "output_type": "stream",
     "text": [
      "c:\\Users\\com\\anaconda3\\Lib\\site-packages\\keras\\src\\engine\\training.py:3000: UserWarning: You are saving your model as an HDF5 file via `model.save()`. This file format is considered legacy. We recommend using instead the native Keras format, e.g. `model.save('my_model.keras')`.\n",
      "  saving_api.save_model(\n"
     ]
    },
    {
     "name": "stdout",
     "output_type": "stream",
     "text": [
      "313/313 [==============================] - 16s 50ms/step - loss: 0.6928 - accuracy: 0.5183 - val_loss: 0.6927 - val_accuracy: 0.5436\n",
      "Epoch 3/100\n",
      "313/313 [==============================] - 15s 49ms/step - loss: 0.6922 - accuracy: 0.5544 - val_loss: 0.6919 - val_accuracy: 0.5716\n",
      "Epoch 4/100\n",
      "313/313 [==============================] - 15s 49ms/step - loss: 0.6904 - accuracy: 0.5871 - val_loss: 0.6888 - val_accuracy: 0.5850\n",
      "Epoch 5/100\n",
      "313/313 [==============================] - 15s 49ms/step - loss: 0.6805 - accuracy: 0.6245 - val_loss: 0.6670 - val_accuracy: 0.6470\n",
      "Epoch 6/100\n",
      "313/313 [==============================] - 15s 49ms/step - loss: 0.6358 - accuracy: 0.6797 - val_loss: 0.6075 - val_accuracy: 0.6984\n",
      "Epoch 7/100\n",
      "313/313 [==============================] - 15s 49ms/step - loss: 0.5867 - accuracy: 0.7170 - val_loss: 0.5672 - val_accuracy: 0.7296\n",
      "Epoch 8/100\n",
      "313/313 [==============================] - 15s 49ms/step - loss: 0.5526 - accuracy: 0.7397 - val_loss: 0.5338 - val_accuracy: 0.7540\n",
      "Epoch 9/100\n",
      "313/313 [==============================] - 15s 49ms/step - loss: 0.5267 - accuracy: 0.7548 - val_loss: 0.5129 - val_accuracy: 0.7664\n",
      "Epoch 10/100\n",
      "313/313 [==============================] - 15s 49ms/step - loss: 0.5049 - accuracy: 0.7667 - val_loss: 0.4904 - val_accuracy: 0.7764\n",
      "Epoch 11/100\n",
      "313/313 [==============================] - 15s 49ms/step - loss: 0.4865 - accuracy: 0.7790 - val_loss: 0.4771 - val_accuracy: 0.7814\n",
      "Epoch 12/100\n",
      "313/313 [==============================] - 15s 49ms/step - loss: 0.4753 - accuracy: 0.7801 - val_loss: 0.4664 - val_accuracy: 0.7862\n",
      "Epoch 13/100\n",
      "313/313 [==============================] - 15s 49ms/step - loss: 0.4664 - accuracy: 0.7861 - val_loss: 0.4596 - val_accuracy: 0.7862\n",
      "Epoch 14/100\n",
      "313/313 [==============================] - 15s 49ms/step - loss: 0.4595 - accuracy: 0.7908 - val_loss: 0.4542 - val_accuracy: 0.7864\n",
      "Epoch 15/100\n",
      "313/313 [==============================] - 15s 48ms/step - loss: 0.4543 - accuracy: 0.7924 - val_loss: 0.4492 - val_accuracy: 0.7878\n",
      "Epoch 16/100\n",
      "313/313 [==============================] - 15s 50ms/step - loss: 0.4467 - accuracy: 0.7975 - val_loss: 0.4473 - val_accuracy: 0.7880\n",
      "Epoch 17/100\n",
      "313/313 [==============================] - 15s 49ms/step - loss: 0.4448 - accuracy: 0.7942 - val_loss: 0.4453 - val_accuracy: 0.7894\n",
      "Epoch 18/100\n",
      "313/313 [==============================] - 16s 51ms/step - loss: 0.4440 - accuracy: 0.7962 - val_loss: 0.4420 - val_accuracy: 0.7952\n",
      "Epoch 19/100\n",
      "313/313 [==============================] - 16s 51ms/step - loss: 0.4391 - accuracy: 0.7982 - val_loss: 0.4411 - val_accuracy: 0.7934\n",
      "Epoch 20/100\n",
      "313/313 [==============================] - 16s 50ms/step - loss: 0.4382 - accuracy: 0.7988 - val_loss: 0.4410 - val_accuracy: 0.7972\n",
      "Epoch 21/100\n",
      "313/313 [==============================] - 16s 50ms/step - loss: 0.4348 - accuracy: 0.8004 - val_loss: 0.4378 - val_accuracy: 0.7974\n",
      "Epoch 22/100\n",
      "313/313 [==============================] - 16s 53ms/step - loss: 0.4327 - accuracy: 0.8020 - val_loss: 0.4369 - val_accuracy: 0.7964\n",
      "Epoch 23/100\n",
      "313/313 [==============================] - 17s 56ms/step - loss: 0.4333 - accuracy: 0.8044 - val_loss: 0.4372 - val_accuracy: 0.7948\n",
      "Epoch 24/100\n",
      "313/313 [==============================] - 17s 54ms/step - loss: 0.4325 - accuracy: 0.8018 - val_loss: 0.4393 - val_accuracy: 0.7990\n",
      "Epoch 25/100\n",
      "313/313 [==============================] - 18s 56ms/step - loss: 0.4304 - accuracy: 0.8024 - val_loss: 0.4381 - val_accuracy: 0.7948\n"
     ]
    }
   ],
   "source": [
    "rmsprop = keras.optimizers.RMSprop(learning_rate=1e-4)\n",
    "model3.compile(optimizer = rmsprop, loss = 'binary_crossentropy', metrics = ['accuracy'])\n",
    "checkpoint_db = keras.callbacks.ModelCheckpoint('best-2rnn-model.h5', save_best_only=True)\n",
    "early_stopping_cb = keras.callbacks.EarlyStopping(patience = 3, restore_best_weights=True)\n",
    "history = model3.fit(train_seq, train_target, epochs=100, batch_size = 64, validation_data = (val_seq, val_target), callbacks = [checkpoint_db, early_stopping_cb])"
   ]
  },
  {
   "cell_type": "code",
   "execution_count": 17,
   "metadata": {},
   "outputs": [
    {
     "data": {
      "image/png": "[encoded data removed]",
      "text/plain": [
       "<Figure size 640x480 with 1 Axes>"
      ]
     },
     "metadata": {},
     "output_type": "display_data"
    }
   ],
   "source": [
    "plt.plot(history.history['loss'])\n",
    "plt.plot(history.history['val_loss'])\n",
    "plt.xlabel('Epochs')\n",
    "plt.ylabel('loss')\n",
    "plt.legend(['train', 'val'])\n",
    "plt.show()"
   ]
  },
  {
   "cell_type": "markdown",
   "metadata": {},
   "source": [
    "### GRU 신경망 훈련하기"
   ]
  },
  {
   "cell_type": "code",
   "execution_count": 18,
   "metadata": {},
   "outputs": [],
   "source": [
    "model4 = keras.Sequential()\n",
    "model4.add(keras.layers.Embedding(500, 16, input_length = 100))\n",
    "model4.add(keras.layers.GRU(8))\n",
    "model4.add(keras.layers.Dense(1, activation='sigmoid'))"
   ]
  },
  {
   "cell_type": "code",
   "execution_count": 19,
   "metadata": {},
   "outputs": [
    {
     "name": "stdout",
     "output_type": "stream",
     "text": [
      "Model: \"sequential_5\"\n",
      "_________________________________________________________________\n",
      " Layer (type)                Output Shape              Param #   \n",
      "=================================================================\n",
      " embedding_5 (Embedding)     (None, 100, 16)           8000      \n",
      "                                                                 \n",
      " gru (GRU)                   (None, 8)                 624       \n",
      "                                                                 \n",
      " dense_5 (Dense)             (None, 1)                 9         \n",
      "                                                                 \n",
      "=================================================================\n",
      "Total params: 8633 (33.72 KB)\n",
      "Trainable params: 8633 (33.72 KB)\n",
      "Non-trainable params: 0 (0.00 Byte)\n",
      "_________________________________________________________________\n"
     ]
    }
   ],
   "source": [
    "model4.summary()"
   ]
  },
  {
   "cell_type": "code",
   "execution_count": 20,
   "metadata": {},
   "outputs": [
    {
     "name": "stdout",
     "output_type": "stream",
     "text": [
      "Epoch 1/100\n",
      "313/313 [==============================] - 11s 29ms/step - loss: 0.6930 - accuracy: 0.5071 - val_loss: 0.6917 - val_accuracy: 0.5376\n",
      "Epoch 2/100\n",
      "  4/313 [..............................] - ETA: 13s - loss: 0.6919 - accuracy: 0.5195"
     ]
    },
    {
     "name": "stderr",
     "output_type": "stream",
     "text": [
      "c:\\Users\\com\\anaconda3\\Lib\\site-packages\\keras\\src\\engine\\training.py:3000: UserWarning: You are saving your model as an HDF5 file via `model.save()`. This file format is considered legacy. We recommend using instead the native Keras format, e.g. `model.save('my_model.keras')`.\n",
      "  saving_api.save_model(\n"
     ]
    },
    {
     "name": "stdout",
     "output_type": "stream",
     "text": [
      "313/313 [==============================] - 9s 29ms/step - loss: 0.6903 - accuracy: 0.5591 - val_loss: 0.6890 - val_accuracy: 0.5570\n",
      "Epoch 3/100\n",
      "313/313 [==============================] - 8s 26ms/step - loss: 0.6863 - accuracy: 0.5865 - val_loss: 0.6841 - val_accuracy: 0.5954\n",
      "Epoch 4/100\n",
      "313/313 [==============================] - 8s 26ms/step - loss: 0.6794 - accuracy: 0.6109 - val_loss: 0.6763 - val_accuracy: 0.6080\n",
      "Epoch 5/100\n",
      "313/313 [==============================] - 8s 26ms/step - loss: 0.6675 - accuracy: 0.6371 - val_loss: 0.6613 - val_accuracy: 0.6374\n",
      "Epoch 6/100\n",
      "313/313 [==============================] - 8s 26ms/step - loss: 0.6462 - accuracy: 0.6591 - val_loss: 0.6359 - val_accuracy: 0.6658\n",
      "Epoch 7/100\n",
      "313/313 [==============================] - 8s 26ms/step - loss: 0.6034 - accuracy: 0.6950 - val_loss: 0.5763 - val_accuracy: 0.7152\n",
      "Epoch 8/100\n",
      "313/313 [==============================] - 8s 26ms/step - loss: 0.5261 - accuracy: 0.7430 - val_loss: 0.5145 - val_accuracy: 0.7512\n",
      "Epoch 9/100\n",
      "313/313 [==============================] - 8s 26ms/step - loss: 0.4908 - accuracy: 0.7650 - val_loss: 0.4906 - val_accuracy: 0.7644\n",
      "Epoch 10/100\n",
      "313/313 [==============================] - 9s 28ms/step - loss: 0.4726 - accuracy: 0.7774 - val_loss: 0.4763 - val_accuracy: 0.7772\n",
      "Epoch 11/100\n",
      "313/313 [==============================] - 9s 28ms/step - loss: 0.4600 - accuracy: 0.7869 - val_loss: 0.4674 - val_accuracy: 0.7824\n",
      "Epoch 12/100\n",
      "313/313 [==============================] - 9s 28ms/step - loss: 0.4506 - accuracy: 0.7931 - val_loss: 0.4615 - val_accuracy: 0.7806\n",
      "Epoch 13/100\n",
      "313/313 [==============================] - 9s 28ms/step - loss: 0.4436 - accuracy: 0.7979 - val_loss: 0.4544 - val_accuracy: 0.7926\n",
      "Epoch 14/100\n",
      "313/313 [==============================] - 8s 27ms/step - loss: 0.4386 - accuracy: 0.8022 - val_loss: 0.4537 - val_accuracy: 0.7902\n",
      "Epoch 15/100\n",
      "313/313 [==============================] - 8s 26ms/step - loss: 0.4339 - accuracy: 0.8058 - val_loss: 0.4491 - val_accuracy: 0.7936\n",
      "Epoch 16/100\n",
      "313/313 [==============================] - 8s 26ms/step - loss: 0.4305 - accuracy: 0.8083 - val_loss: 0.4520 - val_accuracy: 0.7918\n",
      "Epoch 17/100\n",
      "313/313 [==============================] - 8s 27ms/step - loss: 0.4277 - accuracy: 0.8096 - val_loss: 0.4470 - val_accuracy: 0.7916\n",
      "Epoch 18/100\n",
      "313/313 [==============================] - 8s 27ms/step - loss: 0.4254 - accuracy: 0.8106 - val_loss: 0.4491 - val_accuracy: 0.7940\n",
      "Epoch 19/100\n",
      "313/313 [==============================] - 8s 26ms/step - loss: 0.4239 - accuracy: 0.8113 - val_loss: 0.4433 - val_accuracy: 0.7966\n",
      "Epoch 20/100\n",
      "313/313 [==============================] - 8s 26ms/step - loss: 0.4223 - accuracy: 0.8122 - val_loss: 0.4436 - val_accuracy: 0.7938\n",
      "Epoch 21/100\n",
      "313/313 [==============================] - 8s 27ms/step - loss: 0.4211 - accuracy: 0.8110 - val_loss: 0.4469 - val_accuracy: 0.7896\n",
      "Epoch 22/100\n",
      "313/313 [==============================] - 9s 27ms/step - loss: 0.4199 - accuracy: 0.8144 - val_loss: 0.4425 - val_accuracy: 0.7940\n",
      "Epoch 23/100\n",
      "313/313 [==============================] - 9s 28ms/step - loss: 0.4191 - accuracy: 0.8144 - val_loss: 0.4427 - val_accuracy: 0.7958\n",
      "Epoch 24/100\n",
      "313/313 [==============================] - 8s 26ms/step - loss: 0.4181 - accuracy: 0.8133 - val_loss: 0.4446 - val_accuracy: 0.7898\n",
      "Epoch 25/100\n",
      "313/313 [==============================] - 8s 26ms/step - loss: 0.4178 - accuracy: 0.8137 - val_loss: 0.4440 - val_accuracy: 0.7964\n"
     ]
    }
   ],
   "source": [
    "rmsprop = keras.optimizers.RMSprop(learning_rate=1e-4)\n",
    "model4.compile(optimizer = rmsprop, loss = 'binary_crossentropy', metrics = ['accuracy'])\n",
    "checkpoint_db = keras.callbacks.ModelCheckpoint('best-gru-model.h5', save_best_only=True)\n",
    "early_stopping_cb = keras.callbacks.EarlyStopping(patience = 3, restore_best_weights=True)\n",
    "history = model4.fit(train_seq, train_target, epochs=100, batch_size = 64, validation_data = (val_seq, val_target), callbacks = [checkpoint_db, early_stopping_cb])"
   ]
  },
  {
   "cell_type": "code",
   "execution_count": 21,
   "metadata": {},
   "outputs": [
    {
     "data": {
      "image/png": "[encoded data removed]",
      "text/plain": [
       "<Figure size 640x480 with 1 Axes>"
      ]
     },
     "metadata": {},
     "output_type": "display_data"
    }
   ],
   "source": [
    "plt.plot(history.history['loss'])\n",
    "plt.plot(history.history['val_loss'])\n",
    "plt.xlabel('epoch')\n",
    "plt.ylabel('loss')\n",
    "plt.legend(['train', 'val'])\n",
    "plt.show()"
   ]
  },
  {
   "cell_type": "code",
   "execution_count": null,
   "metadata": {},
   "outputs": [],
   "source": []
  }
 ],
 "metadata": {
  "kernelspec": {
   "display_name": "base",
   "language": "python",
   "name": "python3"
  },
  "language_info": {
   "codemirror_mode": {
    "name": "ipython",
    "version": 3
   },
   "file_extension": ".py",
   "mimetype": "text/x-python",
   "name": "python",
   "nbconvert_exporter": "python",
   "pygments_lexer": "ipython3",
   "version": "3.11.4"
  },
  "orig_nbformat": 4
 },
 "nbformat": 4,
 "nbformat_minor": 2
}
